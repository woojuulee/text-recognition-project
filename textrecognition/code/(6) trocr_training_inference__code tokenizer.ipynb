{
  "cells": [
    {
      "cell_type": "markdown",
      "metadata": {},
      "source": [
        "# 실제 학습 코드 (7epoch)\n",
        "- model : vanila trocr\n",
        "- processor : vanila trocr\n",
        "- tokenizer : team-lucid/trocr-small-korean의 토크나이저 (RobertaTokenizerFast)"
      ]
    },
    {
      "cell_type": "code",
      "execution_count": 40,
      "metadata": {
        "id": "WcEshvDDW24k"
      },
      "outputs": [
        {
          "data": {
            "text/html": [
              "<div>\n",
              "<style scoped>\n",
              "    .dataframe tbody tr th:only-of-type {\n",
              "        vertical-align: middle;\n",
              "    }\n",
              "\n",
              "    .dataframe tbody tr th {\n",
              "        vertical-align: top;\n",
              "    }\n",
              "\n",
              "    .dataframe thead th {\n",
              "        text-align: right;\n",
              "    }\n",
              "</style>\n",
              "<table border=\"1\" class=\"dataframe\">\n",
              "  <thead>\n",
              "    <tr style=\"text-align: right;\">\n",
              "      <th></th>\n",
              "      <th>original_img_name</th>\n",
              "      <th>text</th>\n",
              "      <th>bbox</th>\n",
              "      <th>bbox 높이에 대한 너비 비</th>\n",
              "      <th>text_length</th>\n",
              "      <th>file_name</th>\n",
              "    </tr>\n",
              "  </thead>\n",
              "  <tbody>\n",
              "    <tr>\n",
              "      <th>0</th>\n",
              "      <td>medicine_31215.jpg</td>\n",
              "      <td>건강</td>\n",
              "      <td>[270.7996407778658, 181.6060866848643, 85.8899...</td>\n",
              "      <td>1.729167</td>\n",
              "      <td>2</td>\n",
              "      <td>medicine_31215_0.jpg</td>\n",
              "    </tr>\n",
              "    <tr>\n",
              "      <th>1</th>\n",
              "      <td>medicine_31215.jpg</td>\n",
              "      <td>기능식품</td>\n",
              "      <td>[231.2671741729349, 237.28789101405005, 163.89...</td>\n",
              "      <td>3.250000</td>\n",
              "      <td>4</td>\n",
              "      <td>medicine_31215_1.jpg</td>\n",
              "    </tr>\n",
              "    <tr>\n",
              "      <th>2</th>\n",
              "      <td>medicine_31215.jpg</td>\n",
              "      <td>MADE</td>\n",
              "      <td>[2084.202921282695, 176.46746671166335, 243.71...</td>\n",
              "      <td>3.909091</td>\n",
              "      <td>4</td>\n",
              "      <td>medicine_31215_2.jpg</td>\n",
              "    </tr>\n",
              "    <tr>\n",
              "      <th>3</th>\n",
              "      <td>medicine_31215.jpg</td>\n",
              "      <td>IN</td>\n",
              "      <td>[2334.8476798738207, 183.39483441141803, 98.24...</td>\n",
              "      <td>1.677419</td>\n",
              "      <td>2</td>\n",
              "      <td>medicine_31215_3.jpg</td>\n",
              "    </tr>\n",
              "    <tr>\n",
              "      <th>4</th>\n",
              "      <td>medicine_31215.jpg</td>\n",
              "      <td>USA</td>\n",
              "      <td>[2444.426041669941, 185.91387721132884, 150.51...</td>\n",
              "      <td>2.366337</td>\n",
              "      <td>3</td>\n",
              "      <td>medicine_31215_4.jpg</td>\n",
              "    </tr>\n",
              "    <tr>\n",
              "      <th>...</th>\n",
              "      <td>...</td>\n",
              "      <td>...</td>\n",
              "      <td>...</td>\n",
              "      <td>...</td>\n",
              "      <td>...</td>\n",
              "      <td>...</td>\n",
              "    </tr>\n",
              "    <tr>\n",
              "      <th>50995</th>\n",
              "      <td>medicine_32162.jpg</td>\n",
              "      <td>plantarum,</td>\n",
              "      <td>[1025.4162565427919, 666.2598973080914, 286.08...</td>\n",
              "      <td>4.068966</td>\n",
              "      <td>10</td>\n",
              "      <td>medicine_32162_12.jpg</td>\n",
              "    </tr>\n",
              "    <tr>\n",
              "      <th>50996</th>\n",
              "      <td>medicine_32162.jpg</td>\n",
              "      <td>paracasei,</td>\n",
              "      <td>[1676.3878095347584, 665.0476597792422, 259.41...</td>\n",
              "      <td>3.754386</td>\n",
              "      <td>10</td>\n",
              "      <td>medicine_32162_13.jpg</td>\n",
              "    </tr>\n",
              "    <tr>\n",
              "      <th>50997</th>\n",
              "      <td>medicine_32162.jpg</td>\n",
              "      <td>Streptococ-</td>\n",
              "      <td>[1949.1412535258057, 665.0476597792422, 311.54...</td>\n",
              "      <td>5.586957</td>\n",
              "      <td>11</td>\n",
              "      <td>medicine_32162_14.jpg</td>\n",
              "    </tr>\n",
              "    <tr>\n",
              "      <th>50998</th>\n",
              "      <td>medicine_32162.jpg</td>\n",
              "      <td>cus</td>\n",
              "      <td>[134.4216728387039, 747.479811740981, 94.55452...</td>\n",
              "      <td>1.950000</td>\n",
              "      <td>3</td>\n",
              "      <td>medicine_32162_15.jpg</td>\n",
              "    </tr>\n",
              "    <tr>\n",
              "      <th>50999</th>\n",
              "      <td>medicine_32162.jpg</td>\n",
              "      <td>thermophilus,</td>\n",
              "      <td>[249.58423807936836, 736.5696739813391, 372.15...</td>\n",
              "      <td>5.385965</td>\n",
              "      <td>13</td>\n",
              "      <td>medicine_32162_16.jpg</td>\n",
              "    </tr>\n",
              "  </tbody>\n",
              "</table>\n",
              "<p>51000 rows × 6 columns</p>\n",
              "</div>"
            ],
            "text/plain": [
              "        original_img_name           text  \\\n",
              "0      medicine_31215.jpg             건강   \n",
              "1      medicine_31215.jpg           기능식품   \n",
              "2      medicine_31215.jpg           MADE   \n",
              "3      medicine_31215.jpg             IN   \n",
              "4      medicine_31215.jpg            USA   \n",
              "...                   ...            ...   \n",
              "50995  medicine_32162.jpg     plantarum,   \n",
              "50996  medicine_32162.jpg     paracasei,   \n",
              "50997  medicine_32162.jpg    Streptococ-   \n",
              "50998  medicine_32162.jpg            cus   \n",
              "50999  medicine_32162.jpg  thermophilus,   \n",
              "\n",
              "                                                    bbox  bbox 높이에 대한 너비 비  \\\n",
              "0      [270.7996407778658, 181.6060866848643, 85.8899...          1.729167   \n",
              "1      [231.2671741729349, 237.28789101405005, 163.89...          3.250000   \n",
              "2      [2084.202921282695, 176.46746671166335, 243.71...          3.909091   \n",
              "3      [2334.8476798738207, 183.39483441141803, 98.24...          1.677419   \n",
              "4      [2444.426041669941, 185.91387721132884, 150.51...          2.366337   \n",
              "...                                                  ...               ...   \n",
              "50995  [1025.4162565427919, 666.2598973080914, 286.08...          4.068966   \n",
              "50996  [1676.3878095347584, 665.0476597792422, 259.41...          3.754386   \n",
              "50997  [1949.1412535258057, 665.0476597792422, 311.54...          5.586957   \n",
              "50998  [134.4216728387039, 747.479811740981, 94.55452...          1.950000   \n",
              "50999  [249.58423807936836, 736.5696739813391, 372.15...          5.385965   \n",
              "\n",
              "       text_length              file_name  \n",
              "0                2   medicine_31215_0.jpg  \n",
              "1                4   medicine_31215_1.jpg  \n",
              "2                4   medicine_31215_2.jpg  \n",
              "3                2   medicine_31215_3.jpg  \n",
              "4                3   medicine_31215_4.jpg  \n",
              "...            ...                    ...  \n",
              "50995           10  medicine_32162_12.jpg  \n",
              "50996           10  medicine_32162_13.jpg  \n",
              "50997           11  medicine_32162_14.jpg  \n",
              "50998            3  medicine_32162_15.jpg  \n",
              "50999           13  medicine_32162_16.jpg  \n",
              "\n",
              "[51000 rows x 6 columns]"
            ]
          },
          "execution_count": 40,
          "metadata": {},
          "output_type": "execute_result"
        }
      ],
      "source": [
        "import pandas as pd\n",
        "df = pd.read_csv('halfdata/cropped_image_half.csv')\n",
        "df"
      ]
    },
    {
      "cell_type": "code",
      "execution_count": 42,
      "metadata": {
        "id": "e2aWmz_AW24q"
      },
      "outputs": [],
      "source": [
        "from sklearn.model_selection import train_test_split\n",
        "\n",
        "train_df, test_df = train_test_split(df, test_size=0.2)\n",
        "# we reset the indices to start from zero\n",
        "train_df.reset_index(drop=True, inplace=True)\n",
        "test_df.reset_index(drop=True, inplace=True)"
      ]
    },
    {
      "cell_type": "markdown",
      "metadata": {},
      "source": [
        "## 토크나이저 불러오기"
      ]
    },
    {
      "cell_type": "code",
      "execution_count": 43,
      "metadata": {},
      "outputs": [
        {
          "data": {
            "text/plain": [
              "RobertaTokenizerFast(name_or_path='team-lucid/trocr-small-korean', vocab_size=50265, model_max_length=1000000000000000019884624838656, is_fast=True, padding_side='right', truncation_side='right', special_tokens={'bos_token': '<s>', 'eos_token': '</s>', 'unk_token': '<unk>', 'sep_token': '</s>', 'pad_token': '<pad>', 'cls_token': '<s>', 'mask_token': '<mask>'}, clean_up_tokenization_spaces=True),  added_tokens_decoder={\n",
              "\t0: AddedToken(\"<pad>\", rstrip=False, lstrip=False, single_word=False, normalized=False, special=True),\n",
              "\t1: AddedToken(\"<s>\", rstrip=False, lstrip=False, single_word=False, normalized=False, special=True),\n",
              "\t2: AddedToken(\"</s>\", rstrip=False, lstrip=False, single_word=False, normalized=False, special=True),\n",
              "\t3: AddedToken(\"<unk>\", rstrip=False, lstrip=False, single_word=False, normalized=False, special=True),\n",
              "\t50264: AddedToken(\"<mask>\", rstrip=False, lstrip=True, single_word=False, normalized=False, special=True),\n",
              "}"
            ]
          },
          "execution_count": 43,
          "metadata": {},
          "output_type": "execute_result"
        }
      ],
      "source": [
        "from transformers import VisionEncoderDecoderModel, AutoTokenizer\n",
        "tokenizer = AutoTokenizer.from_pretrained(\"team-lucid/trocr-small-korean\")\n",
        "tokenizer"
      ]
    },
    {
      "cell_type": "code",
      "execution_count": 44,
      "metadata": {
        "id": "fl_UQmfIW24r"
      },
      "outputs": [],
      "source": [
        "import torch\n",
        "from torch.utils.data import Dataset\n",
        "from PIL import Image\n",
        "\n",
        "class IAMDataset(Dataset):\n",
        "    def __init__(self, root_dir, df, processor, tokenizer,max_target_length=32): # max_target_length 낮출 필요 있음.max(df['text length']) 찍어보기\n",
        "        self.root_dir = root_dir\n",
        "        self.df = df\n",
        "        self.processor = processor\n",
        "        self.max_target_length = max_target_length\n",
        "        self.tokenizer = tokenizer\n",
        "\n",
        "    def __len__(self):\n",
        "        return len(self.df)\n",
        "\n",
        "    def __getitem__(self, idx):\n",
        "        # get file name + text\n",
        "        file_name = self.df['file_name'][idx]\n",
        "        text = self.df['text'][idx]\n",
        "        # prepare image (i.e. resize + normalize)\n",
        "        image = Image.open(self.root_dir + file_name).convert(\"RGB\")\n",
        "        pixel_values = self.processor(image, return_tensors=\"pt\").pixel_values\n",
        "        # add labels (input_ids) by encoding the text\n",
        "        # labels = self.processor.tokenizer(text,\n",
        "        #                                   padding=\"max_length\",\n",
        "        #                                   max_length=self.max_target_length).input_ids\n",
        "        labels = self.tokenizer(text, padding=\"max_length\", \n",
        "                                # stride=32,\n",
        "                                truncation=True,\n",
        "                                max_length=self.max_target_length).input_ids\n",
        "        \n",
        "        # important: make sure that PAD tokens are ignored by the loss function\n",
        "        # labels = [label if label != self.processor.tokenizer.pad_token_id else -100 for label in labels]\n",
        "        labels = [label if label != self.tokenizer.pad_token_id else -100 for label in labels]\n",
        "\n",
        "        encoding = {\"pixel_values\": pixel_values.squeeze(), \"labels\": torch.tensor(labels)}\n",
        "        return encoding"
      ]
    },
    {
      "cell_type": "code",
      "execution_count": 45,
      "metadata": {
        "id": "GhZeAkI2YUAe"
      },
      "outputs": [
        {
          "name": "stderr",
          "output_type": "stream",
          "text": [
            "Could not find image processor class in the image processor config or the model config. Loading based on pattern matching with the model's feature extractor configuration. Please open a PR/issue to update `preprocessor_config.json` to use `image_processor_type` instead of `feature_extractor_type`. This warning will be removed in v4.40.\n"
          ]
        },
        {
          "name": "stdout",
          "output_type": "stream",
          "text": [
            "Number of training examples: 40800\n",
            "Number of validation examples: 10200\n"
          ]
        }
      ],
      "source": [
        "from transformers import TrOCRProcessor, AutoTokenizer\n",
        "# model = VisionEncoderDecoderModel.from_pretrained(\"team-lucid/trocr-small-korean\")\n",
        "processor = TrOCRProcessor.from_pretrained('microsoft/trocr-small-printed')\n",
        "train_dataset = IAMDataset(root_dir='halfdata/cropped_image_half/',\n",
        "                           df=train_df,\n",
        "                           tokenizer=tokenizer,\n",
        "                           processor=processor)\n",
        "eval_dataset = IAMDataset(root_dir='halfdata/cropped_image_half/',\n",
        "                           df=test_df,\n",
        "                           tokenizer=tokenizer,\n",
        "                           processor=processor)\n",
        "\n",
        "print(\"Number of training examples:\", len(train_dataset))\n",
        "print(\"Number of validation examples:\", len(eval_dataset))"
      ]
    },
    {
      "cell_type": "code",
      "execution_count": 46,
      "metadata": {
        "id": "xM4CKlaPamFX"
      },
      "outputs": [
        {
          "name": "stdout",
          "output_type": "stream",
          "text": [
            "pixel_values torch.Size([3, 384, 384])\n",
            "labels torch.Size([32])\n"
          ]
        }
      ],
      "source": [
        "encoding = train_dataset[0]\n",
        "for k,v in encoding.items():\n",
        "  print(k, v.shape)"
      ]
    },
    {
      "cell_type": "code",
      "execution_count": 47,
      "metadata": {
        "id": "rtsz8KYNaoV-"
      },
      "outputs": [
        {
          "data": {
            "image/jpeg": "[encoded data removed]",
            "image/png": "[encoded data removed]",
            "text/plain": [
              "<PIL.Image.Image image mode=RGB size=175x91>"
            ]
          },
          "execution_count": 47,
          "metadata": {},
          "output_type": "execute_result"
        }
      ],
      "source": [
        "image = Image.open(train_dataset.root_dir + train_df['file_name'][0]).convert(\"RGB\")\n",
        "image"
      ]
    },
    {
      "cell_type": "code",
      "execution_count": 48,
      "metadata": {
        "id": "aIU5nzVKa8tN"
      },
      "outputs": [
        {
          "name": "stdout",
          "output_type": "stream",
          "text": [
            "Lac\n"
          ]
        }
      ],
      "source": [
        "labels = encoding['labels']\n",
        "labels[labels == -100] = tokenizer.pad_token_id\n",
        "label_str = tokenizer.decode(labels, skip_special_tokens=True)\n",
        "# labels[labels == -100] = processor.tokenizer.pad_token_id\n",
        "# label_str = processor.decode(labels, skip_special_tokens=True)\n",
        "print(label_str)"
      ]
    },
    {
      "cell_type": "code",
      "execution_count": 49,
      "metadata": {
        "id": "qaf6EPb_a_Uc"
      },
      "outputs": [],
      "source": [
        "from torch.utils.data import DataLoader\n",
        "\n",
        "train_dataloader = DataLoader(train_dataset, batch_size=4, shuffle=True)\n",
        "eval_dataloader = DataLoader(eval_dataset, batch_size=4)"
      ]
    },
    {
      "cell_type": "markdown",
      "metadata": {
        "id": "xXRcQUmJbFVV"
      },
      "source": [
        "# Train model"
      ]
    },
    {
      "cell_type": "code",
      "execution_count": 50,
      "metadata": {},
      "outputs": [
        {
          "data": {
            "text/plain": [
              "True"
            ]
          },
          "execution_count": 50,
          "metadata": {},
          "output_type": "execute_result"
        }
      ],
      "source": [
        "torch.cuda.is_available()"
      ]
    },
    {
      "cell_type": "code",
      "execution_count": 51,
      "metadata": {
        "id": "b_bQks7XbCvN"
      },
      "outputs": [
        {
          "data": {
            "text/plain": [
              "VisionEncoderDecoderModel(\n",
              "  (encoder): DeiTModel(\n",
              "    (embeddings): DeiTEmbeddings(\n",
              "      (patch_embeddings): DeiTPatchEmbeddings(\n",
              "        (projection): Conv2d(3, 384, kernel_size=(16, 16), stride=(16, 16))\n",
              "      )\n",
              "      (dropout): Dropout(p=0.0, inplace=False)\n",
              "    )\n",
              "    (encoder): DeiTEncoder(\n",
              "      (layer): ModuleList(\n",
              "        (0-11): 12 x DeiTLayer(\n",
              "          (attention): DeiTAttention(\n",
              "            (attention): DeiTSelfAttention(\n",
              "              (query): Linear(in_features=384, out_features=384, bias=True)\n",
              "              (key): Linear(in_features=384, out_features=384, bias=True)\n",
              "              (value): Linear(in_features=384, out_features=384, bias=True)\n",
              "              (dropout): Dropout(p=0.0, inplace=False)\n",
              "            )\n",
              "            (output): DeiTSelfOutput(\n",
              "              (dense): Linear(in_features=384, out_features=384, bias=True)\n",
              "              (dropout): Dropout(p=0.0, inplace=False)\n",
              "            )\n",
              "          )\n",
              "          (intermediate): DeiTIntermediate(\n",
              "            (dense): Linear(in_features=384, out_features=1536, bias=True)\n",
              "            (intermediate_act_fn): GELUActivation()\n",
              "          )\n",
              "          (output): DeiTOutput(\n",
              "            (dense): Linear(in_features=1536, out_features=384, bias=True)\n",
              "            (dropout): Dropout(p=0.0, inplace=False)\n",
              "          )\n",
              "          (layernorm_before): LayerNorm((384,), eps=1e-12, elementwise_affine=True)\n",
              "          (layernorm_after): LayerNorm((384,), eps=1e-12, elementwise_affine=True)\n",
              "        )\n",
              "      )\n",
              "    )\n",
              "    (layernorm): LayerNorm((384,), eps=1e-12, elementwise_affine=True)\n",
              "    (pooler): DeiTPooler(\n",
              "      (dense): Linear(in_features=384, out_features=384, bias=True)\n",
              "      (activation): Tanh()\n",
              "    )\n",
              "  )\n",
              "  (decoder): TrOCRForCausalLM(\n",
              "    (model): TrOCRDecoderWrapper(\n",
              "      (decoder): TrOCRDecoder(\n",
              "        (embed_tokens): Embedding(64044, 256, padding_idx=1)\n",
              "        (embed_positions): TrOCRLearnedPositionalEmbedding(514, 256)\n",
              "        (layernorm_embedding): LayerNorm((256,), eps=1e-05, elementwise_affine=True)\n",
              "        (layers): ModuleList(\n",
              "          (0-5): 6 x TrOCRDecoderLayer(\n",
              "            (self_attn): TrOCRAttention(\n",
              "              (k_proj): Linear(in_features=256, out_features=256, bias=True)\n",
              "              (v_proj): Linear(in_features=256, out_features=256, bias=True)\n",
              "              (q_proj): Linear(in_features=256, out_features=256, bias=True)\n",
              "              (out_proj): Linear(in_features=256, out_features=256, bias=True)\n",
              "            )\n",
              "            (activation_fn): ReLU()\n",
              "            (self_attn_layer_norm): LayerNorm((256,), eps=1e-05, elementwise_affine=True)\n",
              "            (encoder_attn): TrOCRAttention(\n",
              "              (k_proj): Linear(in_features=384, out_features=256, bias=True)\n",
              "              (v_proj): Linear(in_features=384, out_features=256, bias=True)\n",
              "              (q_proj): Linear(in_features=256, out_features=256, bias=True)\n",
              "              (out_proj): Linear(in_features=256, out_features=256, bias=True)\n",
              "            )\n",
              "            (encoder_attn_layer_norm): LayerNorm((256,), eps=1e-05, elementwise_affine=True)\n",
              "            (fc1): Linear(in_features=256, out_features=1024, bias=True)\n",
              "            (fc2): Linear(in_features=1024, out_features=256, bias=True)\n",
              "            (final_layer_norm): LayerNorm((256,), eps=1e-05, elementwise_affine=True)\n",
              "          )\n",
              "        )\n",
              "      )\n",
              "    )\n",
              "    (output_projection): Linear(in_features=256, out_features=64044, bias=False)\n",
              "  )\n",
              ")"
            ]
          },
          "execution_count": 51,
          "metadata": {},
          "output_type": "execute_result"
        }
      ],
      "source": [
        "from transformers import VisionEncoderDecoderModel\n",
        "import torch\n",
        "\n",
        "device = torch.device(\"cuda\" if torch.cuda.is_available() else \"cpu\")\n",
        "\n",
        "model = VisionEncoderDecoderModel.from_pretrained('model') #모델 pt가 있는 폴더경로를 알려주면 됨.\n",
        "model.to(device)"
      ]
    },
    {
      "cell_type": "code",
      "execution_count": 52,
      "metadata": {
        "id": "XYkvF3XxbHPj"
      },
      "outputs": [],
      "source": [
        "model.config.decoder_start_token_id = tokenizer.cls_token_id\n",
        "model.config.pad_token_id = tokenizer.pad_token_id\n",
        "model.config.vocab_size = model.config.decoder.vocab_size\n",
        "\n",
        "# set beam search parameters\n",
        "model.config.eos_token_id = tokenizer.sep_token_id\n",
        "\n",
        "\n",
        "# set special tokens used for creating the decoder_input_ids from the labels\n",
        "# model.config.decoder_start_token_id = processor.tokenizer.cls_token_id\n",
        "# model.config.pad_token_id = processor.tokenizer.pad_token_id\n",
        "# make sure vocab size is set correctly\n",
        "model.config.vocab_size = model.config.decoder.vocab_size\n",
        "\n",
        "# set beam search parameters\n",
        "# model.config.eos_token_id = processor.tokenizer.sep_token_id\n",
        "model.config.max_length = 64\n",
        "model.config.early_stopping = True\n",
        "model.config.no_repeat_ngram_size = 3\n",
        "model.config.length_penalty = 2.0\n",
        "model.config.num_beams = 4"
      ]
    },
    {
      "cell_type": "code",
      "execution_count": null,
      "metadata": {
        "id": "bdzekHB9be2l"
      },
      "outputs": [],
      "source": [
        "!pip install datasets jiwer"
      ]
    },
    {
      "cell_type": "code",
      "execution_count": 53,
      "metadata": {
        "id": "WzOUi5albaSk"
      },
      "outputs": [
        {
          "name": "stderr",
          "output_type": "stream",
          "text": [
            "/home/wooju/anaconda3/envs/py39_trocr/lib/python3.9/site-packages/datasets/load.py:756: FutureWarning: The repository for cer contains custom code which must be executed to correctly load the metric. You can inspect the repository content at https://raw.githubusercontent.com/huggingface/datasets/2.18.0/metrics/cer/cer.py\n",
            "You can avoid this message in future by passing the argument `trust_remote_code=True`.\n",
            "Passing `trust_remote_code=True` will be mandatory to load this metric from the next major release of `datasets`.\n",
            "  warnings.warn(\n"
          ]
        }
      ],
      "source": [
        "from datasets import load_metric\n",
        "cer_metric = load_metric(\"cer\")"
      ]
    },
    {
      "cell_type": "code",
      "execution_count": 54,
      "metadata": {
        "id": "B4HfDZSBbbpm"
      },
      "outputs": [],
      "source": [
        "def compute_cer(pred_ids, label_ids):\n",
        "\n",
        "    pred_str = tokenizer.batch_decode(pred_ids, skip_special_tokens=True)\n",
        "    label_ids[label_ids == -100] = processor.tokenizer.pad_token_id\n",
        "    label_str = tokenizer.batch_decode(label_ids, skip_special_tokens=True)\n",
        "\n",
        "    # 빈문자열 제거 # 왜 아무도 안알려주냐고\n",
        "    pred_str = [pred_str[i] for i in range(len(pred_str)) if len(label_str[i]) > 0]\n",
        "    label_str = [label_str[i] for i in range(len(label_str)) if len(label_str[i]) > 0]\n",
        "\n",
        "    cer = cer_metric.compute(predictions=pred_str, references=label_str)\n",
        "\n",
        "    return cer"
      ]
    },
    {
      "cell_type": "code",
      "execution_count": 55,
      "metadata": {
        "id": "1n9zXxFzcEiR"
      },
      "outputs": [
        {
          "name": "stderr",
          "output_type": "stream",
          "text": [
            "/home/wooju/anaconda3/envs/py39_trocr/lib/python3.9/site-packages/transformers/optimization.py:457: FutureWarning: This implementation of AdamW is deprecated and will be removed in a future version. Use the PyTorch implementation torch.optim.AdamW instead, or set `no_deprecation_warning=True` to disable this warning\n",
            "  warnings.warn(\n"
          ]
        },
        {
          "data": {
            "application/vnd.jupyter.widget-view+json": {
              "model_id": "a0d7a5fcc54e4f8fb889e42de0d3d9d5",
              "version_major": 2,
              "version_minor": 0
            },
            "text/plain": [
              "  0%|          | 0/10200 [00:00<?, ?it/s]"
            ]
          },
          "metadata": {},
          "output_type": "display_data"
        },
        {
          "name": "stdout",
          "output_type": "stream",
          "text": [
            "Loss after epoch 4: 0.38803601636809404\n"
          ]
        },
        {
          "data": {
            "application/vnd.jupyter.widget-view+json": {
              "model_id": "c54d3c996c3940ddb637ecf21fb999d7",
              "version_major": 2,
              "version_minor": 0
            },
            "text/plain": [
              "  0%|          | 0/2550 [00:00<?, ?it/s]"
            ]
          },
          "metadata": {},
          "output_type": "display_data"
        },
        {
          "name": "stderr",
          "output_type": "stream",
          "text": [
            "Some non-default generation parameters are set in the model config. These should go into a GenerationConfig file (https://huggingface.co/docs/transformers/generation_strategies#save-a-custom-decoding-strategy-with-your-model) instead. This warning will be raised to an exception in v4.41.\n",
            "Non-default generation parameters: {'max_length': 64, 'early_stopping': True, 'num_beams': 4, 'length_penalty': 2.0, 'no_repeat_ngram_size': 3}\n"
          ]
        },
        {
          "name": "stdout",
          "output_type": "stream",
          "text": [
            "Validation CER: 0.12408556682878534\n"
          ]
        },
        {
          "data": {
            "application/vnd.jupyter.widget-view+json": {
              "model_id": "56335aeb25274b97b0c574bbfc7b418a",
              "version_major": 2,
              "version_minor": 0
            },
            "text/plain": [
              "  0%|          | 0/10200 [00:00<?, ?it/s]"
            ]
          },
          "metadata": {},
          "output_type": "display_data"
        },
        {
          "name": "stdout",
          "output_type": "stream",
          "text": [
            "Loss after epoch 5: 0.2918694868942622\n"
          ]
        },
        {
          "data": {
            "application/vnd.jupyter.widget-view+json": {
              "model_id": "fbe54f9251e54e6fa0139f46316adc91",
              "version_major": 2,
              "version_minor": 0
            },
            "text/plain": [
              "  0%|          | 0/2550 [00:00<?, ?it/s]"
            ]
          },
          "metadata": {},
          "output_type": "display_data"
        },
        {
          "name": "stderr",
          "output_type": "stream",
          "text": [
            "Some non-default generation parameters are set in the model config. These should go into a GenerationConfig file (https://huggingface.co/docs/transformers/generation_strategies#save-a-custom-decoding-strategy-with-your-model) instead. This warning will be raised to an exception in v4.41.\n",
            "Non-default generation parameters: {'max_length': 64, 'early_stopping': True, 'num_beams': 4, 'length_penalty': 2.0, 'no_repeat_ngram_size': 3}\n"
          ]
        },
        {
          "name": "stdout",
          "output_type": "stream",
          "text": [
            "Validation CER: 0.1103732389453185\n"
          ]
        },
        {
          "data": {
            "application/vnd.jupyter.widget-view+json": {
              "model_id": "730a530b976e4278a6f4f70359aa59c0",
              "version_major": 2,
              "version_minor": 0
            },
            "text/plain": [
              "  0%|          | 0/10200 [00:00<?, ?it/s]"
            ]
          },
          "metadata": {},
          "output_type": "display_data"
        },
        {
          "name": "stdout",
          "output_type": "stream",
          "text": [
            "Loss after epoch 6: 0.22914171106580272\n"
          ]
        },
        {
          "data": {
            "application/vnd.jupyter.widget-view+json": {
              "model_id": "034e060479ac4143bcd59ba818aaac6d",
              "version_major": 2,
              "version_minor": 0
            },
            "text/plain": [
              "  0%|          | 0/2550 [00:00<?, ?it/s]"
            ]
          },
          "metadata": {},
          "output_type": "display_data"
        },
        {
          "name": "stderr",
          "output_type": "stream",
          "text": [
            "Some non-default generation parameters are set in the model config. These should go into a GenerationConfig file (https://huggingface.co/docs/transformers/generation_strategies#save-a-custom-decoding-strategy-with-your-model) instead. This warning will be raised to an exception in v4.41.\n",
            "Non-default generation parameters: {'max_length': 64, 'early_stopping': True, 'num_beams': 4, 'length_penalty': 2.0, 'no_repeat_ngram_size': 3}\n"
          ]
        },
        {
          "name": "stdout",
          "output_type": "stream",
          "text": [
            "Validation CER: 0.10557820137243855\n"
          ]
        }
      ],
      "source": [
        "from transformers import AdamW\n",
        "from tqdm.notebook import tqdm\n",
        "import csv\n",
        "\n",
        "optimizer = AdamW(model.parameters(), lr=5e-5)\n",
        "\n",
        "for epoch in range(4,7):  # loop over the dataset multiple times\n",
        "   # train\n",
        "  model.train()\n",
        "  train_loss = 0.0\n",
        "  for batch in tqdm(train_dataloader):\n",
        "    # get the inputs\n",
        "    for k,v in batch.items():\n",
        "      batch[k] = v.to(device)\n",
        "\n",
        "    # forward + backward + optimize\n",
        "    outputs = model(**batch)\n",
        "    loss = outputs.loss\n",
        "    loss.backward()\n",
        "    optimizer.step()\n",
        "    optimizer.zero_grad()\n",
        "\n",
        "    train_loss += loss.item()\n",
        "\n",
        "  print(f\"Loss after epoch {epoch}:\", train_loss/len(train_dataloader))\n",
        "\n",
        "   # evaluate\n",
        "  model.eval()\n",
        "  valid_cer = 0.0\n",
        "  with torch.no_grad():\n",
        "    for batch in tqdm(eval_dataloader):\n",
        "      # run batch generation\n",
        "      outputs = model.generate(batch[\"pixel_values\"].to(device))\n",
        "      # compute metrics\n",
        "      cer = compute_cer(pred_ids=outputs, label_ids=batch[\"labels\"])\n",
        "      valid_cer += cer\n",
        "\n",
        "  print(\"Validation CER:\", valid_cer / len(eval_dataloader))\n",
        "\n",
        "\n",
        "  with open('trainresult.csv', 'a') as f:\n",
        "    data = [{'epoch': epoch, 'loss': train_loss/len(train_dataloader), 'Validation CER':  valid_cer / len(eval_dataloader) }]\n",
        "    writer = csv.DictWriter(f, fieldnames=data[0].keys()) # fieldnames=['Name', 'Height']\n",
        "    if epoch == 0:\n",
        "        writer.writeheader()  # 첫 번째 루프에서만 헤더 쓰기\n",
        "    writer.writerows(data)\n",
        "\n",
        "  model.save_pretrained(\"./model/\")"
      ]
    },
    {
      "cell_type": "markdown",
      "metadata": {
        "id": "jOgt-3G4kzhe"
      },
      "source": [
        "# Inference"
      ]
    },
    {
      "cell_type": "code",
      "execution_count": 27,
      "metadata": {},
      "outputs": [
        {
          "data": {
            "text/html": [
              "<div>\n",
              "<style scoped>\n",
              "    .dataframe tbody tr th:only-of-type {\n",
              "        vertical-align: middle;\n",
              "    }\n",
              "\n",
              "    .dataframe tbody tr th {\n",
              "        vertical-align: top;\n",
              "    }\n",
              "\n",
              "    .dataframe thead th {\n",
              "        text-align: right;\n",
              "    }\n",
              "</style>\n",
              "<table border=\"1\" class=\"dataframe\">\n",
              "  <thead>\n",
              "    <tr style=\"text-align: right;\">\n",
              "      <th></th>\n",
              "      <th>original_img_name</th>\n",
              "      <th>text</th>\n",
              "      <th>bbox</th>\n",
              "      <th>bbox 높이에 대한 너비 비</th>\n",
              "      <th>text_length</th>\n",
              "      <th>file_name</th>\n",
              "    </tr>\n",
              "  </thead>\n",
              "  <tbody>\n",
              "    <tr>\n",
              "      <th>60000</th>\n",
              "      <td>medicine_32275.jpg</td>\n",
              "      <td>및</td>\n",
              "      <td>[2063.549032545688, 721.9072080204544, 45.0854...</td>\n",
              "      <td>0.700000</td>\n",
              "      <td>1</td>\n",
              "      <td>medicine_32275_32.jpg</td>\n",
              "    </tr>\n",
              "    <tr>\n",
              "      <th>60001</th>\n",
              "      <td>medicine_32275.jpg</td>\n",
              "      <td>[원료명</td>\n",
              "      <td>[1878.9132963780062, 713.3194993614924, 163.16...</td>\n",
              "      <td>2.268657</td>\n",
              "      <td>4</td>\n",
              "      <td>medicine_32275_33.jpg</td>\n",
              "    </tr>\n",
              "    <tr>\n",
              "      <th>60002</th>\n",
              "      <td>medicine_32275.jpg</td>\n",
              "      <td>옥수수전분],</td>\n",
              "      <td>[1976.9988783403421, 792.6044345922198, 266.49...</td>\n",
              "      <td>3.297653</td>\n",
              "      <td>7</td>\n",
              "      <td>medicine_32275_34.jpg</td>\n",
              "    </tr>\n",
              "    <tr>\n",
              "      <th>60003</th>\n",
              "      <td>medicine_32275.jpg</td>\n",
              "      <td>DL-트레오닌),</td>\n",
              "      <td>[1542.9191950961197, 860.3840101462162, 326.33...</td>\n",
              "      <td>4.222222</td>\n",
              "      <td>9</td>\n",
              "      <td>medicine_32275_35.jpg</td>\n",
              "    </tr>\n",
              "    <tr>\n",
              "      <th>60004</th>\n",
              "      <td>medicine_32275.jpg</td>\n",
              "      <td>말토덱스트린,</td>\n",
              "      <td>[1584.7842748085595, 937.6733880768736, 322.03...</td>\n",
              "      <td>4.347826</td>\n",
              "      <td>7</td>\n",
              "      <td>medicine_32275_36.jpg</td>\n",
              "    </tr>\n",
              "    <tr>\n",
              "      <th>...</th>\n",
              "      <td>...</td>\n",
              "      <td>...</td>\n",
              "      <td>...</td>\n",
              "      <td>...</td>\n",
              "      <td>...</td>\n",
              "      <td>...</td>\n",
              "    </tr>\n",
              "    <tr>\n",
              "      <th>102002</th>\n",
              "      <td>medicine_32820.jpg</td>\n",
              "      <td>유통기한</td>\n",
              "      <td>[109.49328779974199, 3030.854831940932, 337.68...</td>\n",
              "      <td>2.941489</td>\n",
              "      <td>4</td>\n",
              "      <td>medicine_32820_97.jpg</td>\n",
              "    </tr>\n",
              "    <tr>\n",
              "      <th>102003</th>\n",
              "      <td>medicine_32820.jpg</td>\n",
              "      <td>나트륨</td>\n",
              "      <td>[1288.428836456075, 906.5898020406504, 276.353...</td>\n",
              "      <td>2.428571</td>\n",
              "      <td>3</td>\n",
              "      <td>medicine_32820_98.jpg</td>\n",
              "    </tr>\n",
              "    <tr>\n",
              "      <th>102004</th>\n",
              "      <td>medicine_32820.jpg</td>\n",
              "      <td>25㎍(1,000</td>\n",
              "      <td>[1039.4533106824476, 1015.1929759969929, 528.3...</td>\n",
              "      <td>4.055687</td>\n",
              "      <td>9</td>\n",
              "      <td>medicine_32820_99.jpg</td>\n",
              "    </tr>\n",
              "    <tr>\n",
              "      <th>102005</th>\n",
              "      <td>medicine_32820.jpg</td>\n",
              "      <td>까지</td>\n",
              "      <td>[1454.0794263845135, 3021.2979179264426, 182.4...</td>\n",
              "      <td>1.565934</td>\n",
              "      <td>2</td>\n",
              "      <td>medicine_32820_100.jpg</td>\n",
              "    </tr>\n",
              "    <tr>\n",
              "      <th>102006</th>\n",
              "      <td>medicine_32820.jpg</td>\n",
              "      <td>(</td>\n",
              "      <td>[265.68238149494323, 1255.7630390585678, 49.26...</td>\n",
              "      <td>0.423546</td>\n",
              "      <td>1</td>\n",
              "      <td>medicine_32820_101.jpg</td>\n",
              "    </tr>\n",
              "  </tbody>\n",
              "</table>\n",
              "<p>42007 rows × 6 columns</p>\n",
              "</div>"
            ],
            "text/plain": [
              "         original_img_name       text  \\\n",
              "60000   medicine_32275.jpg          및   \n",
              "60001   medicine_32275.jpg       [원료명   \n",
              "60002   medicine_32275.jpg    옥수수전분],   \n",
              "60003   medicine_32275.jpg  DL-트레오닌),   \n",
              "60004   medicine_32275.jpg    말토덱스트린,   \n",
              "...                    ...        ...   \n",
              "102002  medicine_32820.jpg       유통기한   \n",
              "102003  medicine_32820.jpg        나트륨   \n",
              "102004  medicine_32820.jpg  25㎍(1,000   \n",
              "102005  medicine_32820.jpg         까지   \n",
              "102006  medicine_32820.jpg          (   \n",
              "\n",
              "                                                     bbox  bbox 높이에 대한 너비 비  \\\n",
              "60000   [2063.549032545688, 721.9072080204544, 45.0854...          0.700000   \n",
              "60001   [1878.9132963780062, 713.3194993614924, 163.16...          2.268657   \n",
              "60002   [1976.9988783403421, 792.6044345922198, 266.49...          3.297653   \n",
              "60003   [1542.9191950961197, 860.3840101462162, 326.33...          4.222222   \n",
              "60004   [1584.7842748085595, 937.6733880768736, 322.03...          4.347826   \n",
              "...                                                   ...               ...   \n",
              "102002  [109.49328779974199, 3030.854831940932, 337.68...          2.941489   \n",
              "102003  [1288.428836456075, 906.5898020406504, 276.353...          2.428571   \n",
              "102004  [1039.4533106824476, 1015.1929759969929, 528.3...          4.055687   \n",
              "102005  [1454.0794263845135, 3021.2979179264426, 182.4...          1.565934   \n",
              "102006  [265.68238149494323, 1255.7630390585678, 49.26...          0.423546   \n",
              "\n",
              "        text_length               file_name  \n",
              "60000             1   medicine_32275_32.jpg  \n",
              "60001             4   medicine_32275_33.jpg  \n",
              "60002             7   medicine_32275_34.jpg  \n",
              "60003             9   medicine_32275_35.jpg  \n",
              "60004             7   medicine_32275_36.jpg  \n",
              "...             ...                     ...  \n",
              "102002            4   medicine_32820_97.jpg  \n",
              "102003            3   medicine_32820_98.jpg  \n",
              "102004            9   medicine_32820_99.jpg  \n",
              "102005            2  medicine_32820_100.jpg  \n",
              "102006            1  medicine_32820_101.jpg  \n",
              "\n",
              "[42007 rows x 6 columns]"
            ]
          },
          "execution_count": 27,
          "metadata": {},
          "output_type": "execute_result"
        }
      ],
      "source": [
        "df = pd.read_csv('data/cropped_image.csv')\n",
        "df_infer = df.iloc[60000:]\n",
        "df_infer"
      ]
    },
    {
      "cell_type": "code",
      "execution_count": null,
      "metadata": {},
      "outputs": [],
      "source": [
        "import os\n",
        "from PIL import Image\n",
        "from transformers import VisionEncoderDecoderModel, AutoTokenizer, TrOCRProcessor\n",
        "import torch\n",
        "import pandas as pd\n",
        "import csv\n",
        "\n",
        "df = pd.read_csv('data/cropped_image.csv')\n",
        "df_infer = df.iloc[68120:]\n",
        "\n",
        "device = torch.device(\"cuda\" if torch.cuda.is_available() else \"cpu\")\n",
        "model = VisionEncoderDecoderModel.from_pretrained('./model')\n",
        "model.to(device)\n",
        "\n",
        "processor = TrOCRProcessor.from_pretrained('microsoft/trocr-small-printed')\n",
        "tokenizer = AutoTokenizer.from_pretrained(\"team-lucid/trocr-small-korean\")\n",
        "# processor = TrOCRProcessor.from_pretrained('./model')\n",
        "# tokenizer=AutoTokenizer.from_pretrained('./model')\n",
        " \n",
        "for idx, data in df_infer.iterrows():\n",
        "    image_folder = 'data/croppedimages'\n",
        "    original_label = data['text']\n",
        "\n",
        "    image = Image.open(os.path.join(image_folder, data['file_name'])).convert('RGB')\n",
        "    pixel_values = processor(image,return_tensors='pt').pixel_values\n",
        "    \n",
        "    generated_ids = model.generate(pixel_values.to(device))\n",
        "    generated_text = tokenizer.batch_decode(generated_ids, skip_special_tokens=True)[0]\n",
        "    \n",
        "    # print('Decoded label = {},{}'.format(original_label,generated_text))\n",
        "\n",
        "    with open('inferenceresult.csv', 'a') as f:\n",
        "        info = [{'file_name': data['file_name'], 'original_label': original_label, 'generated_text':  generated_text }]\n",
        "        writer = csv.DictWriter(f, fieldnames=info[0].keys()) # fieldnames=['Name', 'Height']\n",
        "        # if  data['file_name'] == \"medicine_32275_32.jpg\":\n",
        "        #     writer.writeheader()  # 첫 번째 루프에서만 헤더 쓰기\n",
        "        writer.writerows(info)\n",
        "    "
      ]
    },
    {
      "cell_type": "code",
      "execution_count": 38,
      "metadata": {},
      "outputs": [
        {
          "name": "stdout",
          "output_type": "stream",
          "text": [
            "42007개 중 정확히 일치하는 데이터 수 : 34739, 다른 데이터 수 : 7268\n"
          ]
        }
      ],
      "source": [
        "import pandas as pd\n",
        "result = pd.read_csv('inferenceresult.csv')\n",
        "result\n",
        "\n",
        "same = 0\n",
        "dif = 0\n",
        "\n",
        "for idx, data in result.iterrows():\n",
        "    if data['original_label'] == data['generated_text'] :\n",
        "        same += 1\n",
        "\n",
        "    else :\n",
        "        dif += 1\n",
        "print(f\"{len(result)}개 중 정확히 일치하는 데이터 수 : {same}, 다른 데이터 수 : {dif}\")"
      ]
    }
  ],
  "metadata": {
    "colab": {
      "provenance": []
    },
    "kernelspec": {
      "display_name": "py39_trocr",
      "language": "python",
      "name": "python3"
    },
    "language_info": {
      "codemirror_mode": {
        "name": "ipython",
        "version": 3
      },
      "file_extension": ".py",
      "mimetype": "text/x-python",
      "name": "python",
      "nbconvert_exporter": "python",
      "pygments_lexer": "ipython3",
      "version": "3.9.19"
    }
  },
  "nbformat": 4,
  "nbformat_minor": 0
}
