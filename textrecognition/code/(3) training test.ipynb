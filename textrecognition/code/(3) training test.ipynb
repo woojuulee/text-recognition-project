{
  "cells": [
    {
      "cell_type": "markdown",
      "metadata": {},
      "source": [
        "# small data로 training code 확인해보기"
      ]
    },
    {
      "cell_type": "code",
      "execution_count": 1,
      "metadata": {
        "id": "WcEshvDDW24k"
      },
      "outputs": [
        {
          "data": {
            "text/html": [
              "<div>\n",
              "<style scoped>\n",
              "    .dataframe tbody tr th:only-of-type {\n",
              "        vertical-align: middle;\n",
              "    }\n",
              "\n",
              "    .dataframe tbody tr th {\n",
              "        vertical-align: top;\n",
              "    }\n",
              "\n",
              "    .dataframe thead th {\n",
              "        text-align: right;\n",
              "    }\n",
              "</style>\n",
              "<table border=\"1\" class=\"dataframe\">\n",
              "  <thead>\n",
              "    <tr style=\"text-align: right;\">\n",
              "      <th></th>\n",
              "      <th>original_img_name</th>\n",
              "      <th>text</th>\n",
              "      <th>bbox</th>\n",
              "      <th>높이에 대한 너비 비</th>\n",
              "      <th>text_length</th>\n",
              "      <th>file_name</th>\n",
              "    </tr>\n",
              "  </thead>\n",
              "  <tbody>\n",
              "    <tr>\n",
              "      <th>0</th>\n",
              "      <td>medicine_31215.jpg</td>\n",
              "      <td>건강</td>\n",
              "      <td>[270.7996407778658, 181.6060866848643, 85.8899...</td>\n",
              "      <td>1.729167</td>\n",
              "      <td>2</td>\n",
              "      <td>medicine_31215_0.jpg</td>\n",
              "    </tr>\n",
              "    <tr>\n",
              "      <th>1</th>\n",
              "      <td>medicine_31215.jpg</td>\n",
              "      <td>기능식품</td>\n",
              "      <td>[231.2671741729349, 237.28789101405005, 163.89...</td>\n",
              "      <td>3.250000</td>\n",
              "      <td>4</td>\n",
              "      <td>medicine_31215_1.jpg</td>\n",
              "    </tr>\n",
              "    <tr>\n",
              "      <th>2</th>\n",
              "      <td>medicine_31215.jpg</td>\n",
              "      <td>MADE</td>\n",
              "      <td>[2084.202921282695, 176.46746671166335, 243.71...</td>\n",
              "      <td>3.909091</td>\n",
              "      <td>4</td>\n",
              "      <td>medicine_31215_2.jpg</td>\n",
              "    </tr>\n",
              "    <tr>\n",
              "      <th>3</th>\n",
              "      <td>medicine_31215.jpg</td>\n",
              "      <td>IN</td>\n",
              "      <td>[2334.8476798738207, 183.39483441141803, 98.24...</td>\n",
              "      <td>1.677419</td>\n",
              "      <td>2</td>\n",
              "      <td>medicine_31215_3.jpg</td>\n",
              "    </tr>\n",
              "    <tr>\n",
              "      <th>4</th>\n",
              "      <td>medicine_31215.jpg</td>\n",
              "      <td>USA</td>\n",
              "      <td>[2444.426041669941, 185.91387721132884, 150.51...</td>\n",
              "      <td>2.366337</td>\n",
              "      <td>3</td>\n",
              "      <td>medicine_31215_4.jpg</td>\n",
              "    </tr>\n",
              "    <tr>\n",
              "      <th>5</th>\n",
              "      <td>medicine_31215.jpg</td>\n",
              "      <td>Alive!</td>\n",
              "      <td>[741.6678587962095, 333.80412782543954, 1329.4...</td>\n",
              "      <td>1.881068</td>\n",
              "      <td>6</td>\n",
              "      <td>medicine_31215_5.jpg</td>\n",
              "    </tr>\n",
              "    <tr>\n",
              "      <th>6</th>\n",
              "      <td>medicine_31215.jpg</td>\n",
              "      <td>얼라이브!</td>\n",
              "      <td>[877.3582427556327, 2099.3634109458117, 473.36...</td>\n",
              "      <td>3.402976</td>\n",
              "      <td>5</td>\n",
              "      <td>medicine_31215_6.jpg</td>\n",
              "    </tr>\n",
              "    <tr>\n",
              "      <th>7</th>\n",
              "      <td>medicine_31215.jpg</td>\n",
              "      <td>원스데일리</td>\n",
              "      <td>[1388.408311468296, 2103.4166606571503, 554.70...</td>\n",
              "      <td>3.937500</td>\n",
              "      <td>5</td>\n",
              "      <td>medicine_31215_7.jpg</td>\n",
              "    </tr>\n",
              "    <tr>\n",
              "      <th>8</th>\n",
              "      <td>medicine_31215.jpg</td>\n",
              "      <td>50+</td>\n",
              "      <td>[1009.8018631112581, 2280.770511880879, 357.22...</td>\n",
              "      <td>2.236220</td>\n",
              "      <td>3</td>\n",
              "      <td>medicine_31215_8.jpg</td>\n",
              "    </tr>\n",
              "    <tr>\n",
              "      <th>9</th>\n",
              "      <td>medicine_31215.jpg</td>\n",
              "      <td>세트</td>\n",
              "      <td>[1413.5648861099594, 2278.2548544167125, 366.0...</td>\n",
              "      <td>2.049296</td>\n",
              "      <td>2</td>\n",
              "      <td>medicine_31215_9.jpg</td>\n",
              "    </tr>\n",
              "    <tr>\n",
              "      <th>10</th>\n",
              "      <td>medicine_31215.jpg</td>\n",
              "      <td>OMNI</td>\n",
              "      <td>[979.1715015719071, 2520.454317257905, 306.459...</td>\n",
              "      <td>3.500000</td>\n",
              "      <td>4</td>\n",
              "      <td>medicine_31215_10.jpg</td>\n",
              "    </tr>\n",
              "    <tr>\n",
              "      <th>11</th>\n",
              "      <td>medicine_31215.jpg</td>\n",
              "      <td>POTENCY</td>\n",
              "      <td>[1324.3207699275624, 2524.526874996615, 512.12...</td>\n",
              "      <td>5.917647</td>\n",
              "      <td>7</td>\n",
              "      <td>medicine_31215_11.jpg</td>\n",
              "    </tr>\n",
              "    <tr>\n",
              "      <th>12</th>\n",
              "      <td>medicine_31215.jpg</td>\n",
              "      <td>건강기능식품</td>\n",
              "      <td>[649.1475607331967, 2743.1406656237054, 495.21...</td>\n",
              "      <td>5.409524</td>\n",
              "      <td>6</td>\n",
              "      <td>medicine_31215_12.jpg</td>\n",
              "    </tr>\n",
              "    <tr>\n",
              "      <th>13</th>\n",
              "      <td>medicine_31215.jpg</td>\n",
              "      <td>멀티비타민</td>\n",
              "      <td>[1175.7967553971857, 2712.927413637511, 540.43...</td>\n",
              "      <td>4.135134</td>\n",
              "      <td>5</td>\n",
              "      <td>medicine_31215_13.jpg</td>\n",
              "    </tr>\n",
              "    <tr>\n",
              "      <th>14</th>\n",
              "      <td>medicine_31215.jpg</td>\n",
              "      <td>얼라이브</td>\n",
              "      <td>[618.9890696262147, 2907.384853694418, 211.109...</td>\n",
              "      <td>3.646027</td>\n",
              "      <td>4</td>\n",
              "      <td>medicine_31215_14.jpg</td>\n",
              "    </tr>\n",
              "    <tr>\n",
              "      <th>15</th>\n",
              "      <td>medicine_31215.jpg</td>\n",
              "      <td>원스데일리</td>\n",
              "      <td>[847.6066606553381, 2908.2512820974293, 263.51...</td>\n",
              "      <td>4.454545</td>\n",
              "      <td>5</td>\n",
              "      <td>medicine_31215_15.jpg</td>\n",
              "    </tr>\n",
              "    <tr>\n",
              "      <th>16</th>\n",
              "      <td>medicine_31215.jpg</td>\n",
              "      <td>50+</td>\n",
              "      <td>[1130.241581086011, 2911.836503075408, 99.7886...</td>\n",
              "      <td>2.141026</td>\n",
              "      <td>3</td>\n",
              "      <td>medicine_31215_16.jpg</td>\n",
              "    </tr>\n",
              "    <tr>\n",
              "      <th>17</th>\n",
              "      <td>medicine_31215.jpg</td>\n",
              "      <td>117.5g</td>\n",
              "      <td>[1268.2725887381998, 2913.0315767347342, 175.6...</td>\n",
              "      <td>2.969697</td>\n",
              "      <td>6</td>\n",
              "      <td>medicine_31215_17.jpg</td>\n",
              "    </tr>\n",
              "    <tr>\n",
              "      <th>18</th>\n",
              "      <td>medicine_31215.jpg</td>\n",
              "      <td>(979mg</td>\n",
              "      <td>[1461.2769847193993, 2912.434039905071, 216.30...</td>\n",
              "      <td>3.584158</td>\n",
              "      <td>6</td>\n",
              "      <td>medicine_31215_18.jpg</td>\n",
              "    </tr>\n",
              "    <tr>\n",
              "      <th>19</th>\n",
              "      <td>medicine_31215.jpg</td>\n",
              "      <td>X</td>\n",
              "      <td>[1695.511421947356, 2914.8241872237236, 37.644...</td>\n",
              "      <td>0.807692</td>\n",
              "      <td>1</td>\n",
              "      <td>medicine_31215_19.jpg</td>\n",
              "    </tr>\n",
              "    <tr>\n",
              "      <th>20</th>\n",
              "      <td>medicine_31215.jpg</td>\n",
              "      <td>60정</td>\n",
              "      <td>[1749.887273446703, 2914.2266503940605, 135.04...</td>\n",
              "      <td>2.456522</td>\n",
              "      <td>3</td>\n",
              "      <td>medicine_31215_20.jpg</td>\n",
              "    </tr>\n",
              "    <tr>\n",
              "      <th>21</th>\n",
              "      <td>medicine_31215.jpg</td>\n",
              "      <td>X</td>\n",
              "      <td>[1901.8673732830816, 2915.1438185072725, 39.79...</td>\n",
              "      <td>0.867347</td>\n",
              "      <td>1</td>\n",
              "      <td>medicine_31215_21.jpg</td>\n",
              "    </tr>\n",
              "    <tr>\n",
              "      <th>22</th>\n",
              "      <td>medicine_31215.jpg</td>\n",
              "      <td>2개입)</td>\n",
              "      <td>[1956.1769192935656, 2912.3347040584545, 171.3...</td>\n",
              "      <td>2.975610</td>\n",
              "      <td>4</td>\n",
              "      <td>medicine_31215_22.jpg</td>\n",
              "    </tr>\n",
              "    <tr>\n",
              "      <th>23</th>\n",
              "      <td>medicine_31215.jpg</td>\n",
              "      <td>R</td>\n",
              "      <td>[2091.1962148155776, 422.6017102260107, 15.574...</td>\n",
              "      <td>0.756410</td>\n",
              "      <td>1</td>\n",
              "      <td>medicine_31215_23.jpg</td>\n",
              "    </tr>\n",
              "    <tr>\n",
              "      <th>24</th>\n",
              "      <td>medicine_31215.jpg</td>\n",
              "      <td>&amp;</td>\n",
              "      <td>[1731.4303687280014, 2728.508781876943, 80.384...</td>\n",
              "      <td>0.778409</td>\n",
              "      <td>1</td>\n",
              "      <td>medicine_31215_24.jpg</td>\n",
              "    </tr>\n",
              "    <tr>\n",
              "      <th>25</th>\n",
              "      <td>medicine_31215.jpg</td>\n",
              "      <td>미네랄</td>\n",
              "      <td>[1834.6980184172799, 2715.6003256657837, 323.8...</td>\n",
              "      <td>2.520548</td>\n",
              "      <td>3</td>\n",
              "      <td>medicine_31215_25.jpg</td>\n",
              "    </tr>\n",
              "  </tbody>\n",
              "</table>\n",
              "</div>"
            ],
            "text/plain": [
              "     original_img_name     text  \\\n",
              "0   medicine_31215.jpg       건강   \n",
              "1   medicine_31215.jpg     기능식품   \n",
              "2   medicine_31215.jpg     MADE   \n",
              "3   medicine_31215.jpg       IN   \n",
              "4   medicine_31215.jpg      USA   \n",
              "5   medicine_31215.jpg   Alive!   \n",
              "6   medicine_31215.jpg    얼라이브!   \n",
              "7   medicine_31215.jpg    원스데일리   \n",
              "8   medicine_31215.jpg      50+   \n",
              "9   medicine_31215.jpg       세트   \n",
              "10  medicine_31215.jpg     OMNI   \n",
              "11  medicine_31215.jpg  POTENCY   \n",
              "12  medicine_31215.jpg   건강기능식품   \n",
              "13  medicine_31215.jpg    멀티비타민   \n",
              "14  medicine_31215.jpg     얼라이브   \n",
              "15  medicine_31215.jpg    원스데일리   \n",
              "16  medicine_31215.jpg      50+   \n",
              "17  medicine_31215.jpg   117.5g   \n",
              "18  medicine_31215.jpg   (979mg   \n",
              "19  medicine_31215.jpg        X   \n",
              "20  medicine_31215.jpg      60정   \n",
              "21  medicine_31215.jpg        X   \n",
              "22  medicine_31215.jpg     2개입)   \n",
              "23  medicine_31215.jpg        R   \n",
              "24  medicine_31215.jpg        &   \n",
              "25  medicine_31215.jpg      미네랄   \n",
              "\n",
              "                                                 bbox  높이에 대한 너비 비  \\\n",
              "0   [270.7996407778658, 181.6060866848643, 85.8899...     1.729167   \n",
              "1   [231.2671741729349, 237.28789101405005, 163.89...     3.250000   \n",
              "2   [2084.202921282695, 176.46746671166335, 243.71...     3.909091   \n",
              "3   [2334.8476798738207, 183.39483441141803, 98.24...     1.677419   \n",
              "4   [2444.426041669941, 185.91387721132884, 150.51...     2.366337   \n",
              "5   [741.6678587962095, 333.80412782543954, 1329.4...     1.881068   \n",
              "6   [877.3582427556327, 2099.3634109458117, 473.36...     3.402976   \n",
              "7   [1388.408311468296, 2103.4166606571503, 554.70...     3.937500   \n",
              "8   [1009.8018631112581, 2280.770511880879, 357.22...     2.236220   \n",
              "9   [1413.5648861099594, 2278.2548544167125, 366.0...     2.049296   \n",
              "10  [979.1715015719071, 2520.454317257905, 306.459...     3.500000   \n",
              "11  [1324.3207699275624, 2524.526874996615, 512.12...     5.917647   \n",
              "12  [649.1475607331967, 2743.1406656237054, 495.21...     5.409524   \n",
              "13  [1175.7967553971857, 2712.927413637511, 540.43...     4.135134   \n",
              "14  [618.9890696262147, 2907.384853694418, 211.109...     3.646027   \n",
              "15  [847.6066606553381, 2908.2512820974293, 263.51...     4.454545   \n",
              "16  [1130.241581086011, 2911.836503075408, 99.7886...     2.141026   \n",
              "17  [1268.2725887381998, 2913.0315767347342, 175.6...     2.969697   \n",
              "18  [1461.2769847193993, 2912.434039905071, 216.30...     3.584158   \n",
              "19  [1695.511421947356, 2914.8241872237236, 37.644...     0.807692   \n",
              "20  [1749.887273446703, 2914.2266503940605, 135.04...     2.456522   \n",
              "21  [1901.8673732830816, 2915.1438185072725, 39.79...     0.867347   \n",
              "22  [1956.1769192935656, 2912.3347040584545, 171.3...     2.975610   \n",
              "23  [2091.1962148155776, 422.6017102260107, 15.574...     0.756410   \n",
              "24  [1731.4303687280014, 2728.508781876943, 80.384...     0.778409   \n",
              "25  [1834.6980184172799, 2715.6003256657837, 323.8...     2.520548   \n",
              "\n",
              "    text_length              file_name  \n",
              "0             2   medicine_31215_0.jpg  \n",
              "1             4   medicine_31215_1.jpg  \n",
              "2             4   medicine_31215_2.jpg  \n",
              "3             2   medicine_31215_3.jpg  \n",
              "4             3   medicine_31215_4.jpg  \n",
              "5             6   medicine_31215_5.jpg  \n",
              "6             5   medicine_31215_6.jpg  \n",
              "7             5   medicine_31215_7.jpg  \n",
              "8             3   medicine_31215_8.jpg  \n",
              "9             2   medicine_31215_9.jpg  \n",
              "10            4  medicine_31215_10.jpg  \n",
              "11            7  medicine_31215_11.jpg  \n",
              "12            6  medicine_31215_12.jpg  \n",
              "13            5  medicine_31215_13.jpg  \n",
              "14            4  medicine_31215_14.jpg  \n",
              "15            5  medicine_31215_15.jpg  \n",
              "16            3  medicine_31215_16.jpg  \n",
              "17            6  medicine_31215_17.jpg  \n",
              "18            6  medicine_31215_18.jpg  \n",
              "19            1  medicine_31215_19.jpg  \n",
              "20            3  medicine_31215_20.jpg  \n",
              "21            1  medicine_31215_21.jpg  \n",
              "22            4  medicine_31215_22.jpg  \n",
              "23            1  medicine_31215_23.jpg  \n",
              "24            1  medicine_31215_24.jpg  \n",
              "25            3  medicine_31215_25.jpg  "
            ]
          },
          "execution_count": 1,
          "metadata": {},
          "output_type": "execute_result"
        }
      ],
      "source": [
        "import pandas as pd\n",
        "df = pd.read_csv('trocr/testdata/cropped_image.csv')\n",
        "df"
      ]
    },
    {
      "cell_type": "code",
      "execution_count": 2,
      "metadata": {
        "id": "e2aWmz_AW24q"
      },
      "outputs": [],
      "source": [
        "from sklearn.model_selection import train_test_split\n",
        "\n",
        "train_df, test_df = train_test_split(df, test_size=0.2)\n",
        "# we reset the indices to start from zero\n",
        "train_df.reset_index(drop=True, inplace=True)\n",
        "test_df.reset_index(drop=True, inplace=True)"
      ]
    },
    {
      "cell_type": "code",
      "execution_count": 3,
      "metadata": {
        "id": "fl_UQmfIW24r"
      },
      "outputs": [],
      "source": [
        "import torch\n",
        "from torch.utils.data import Dataset\n",
        "from PIL import Image\n",
        "\n",
        "class IAMDataset(Dataset):\n",
        "    def __init__(self, root_dir, df, processor, max_target_length=32): # max_target_length 낮출 필요 있음.max(df['text length']) 찍어보기\n",
        "        self.root_dir = root_dir\n",
        "        self.df = df\n",
        "        self.processor = processor\n",
        "        self.max_target_length = max_target_length\n",
        "\n",
        "    def __len__(self):\n",
        "        return len(self.df)\n",
        "\n",
        "    def __getitem__(self, idx):\n",
        "        # get file name + text\n",
        "        file_name = self.df['file_name'][idx]\n",
        "        text = self.df['text'][idx]\n",
        "        # prepare image (i.e. resize + normalize)\n",
        "        image = Image.open(self.root_dir + file_name).convert(\"RGB\")\n",
        "        pixel_values = self.processor(image, return_tensors=\"pt\").pixel_values\n",
        "        # add labels (input_ids) by encoding the text\n",
        "        labels = self.processor.tokenizer(text,\n",
        "                                          padding=\"max_length\",\n",
        "                                          max_length=self.max_target_length).input_ids\n",
        "        # important: make sure that PAD tokens are ignored by the loss function\n",
        "        labels = [label if label != self.processor.tokenizer.pad_token_id else -100 for label in labels]\n",
        "\n",
        "        encoding = {\"pixel_values\": pixel_values.squeeze(), \"labels\": torch.tensor(labels)}\n",
        "        return encoding"
      ]
    },
    {
      "cell_type": "code",
      "execution_count": 4,
      "metadata": {
        "id": "GhZeAkI2YUAe"
      },
      "outputs": [
        {
          "name": "stderr",
          "output_type": "stream",
          "text": [
            "Could not find image processor class in the image processor config or the model config. Loading based on pattern matching with the model's feature extractor configuration. Please open a PR/issue to update `preprocessor_config.json` to use `image_processor_type` instead of `feature_extractor_type`. This warning will be removed in v4.40.\n"
          ]
        }
      ],
      "source": [
        "from transformers import TrOCRProcessor\n",
        "\n",
        "processor = TrOCRProcessor.from_pretrained('microsoft/trocr-small-printed')\n",
        "train_dataset = IAMDataset(root_dir='trocr/testdata/croppedimages/',\n",
        "                           df=train_df,\n",
        "                           processor=processor)\n",
        "eval_dataset = IAMDataset(root_dir='trocr/testdata/croppedimages/',\n",
        "                           df=test_df,\n",
        "                           processor=processor)"
      ]
    },
    {
      "cell_type": "code",
      "execution_count": 5,
      "metadata": {
        "id": "ngHwC15Nagwv"
      },
      "outputs": [
        {
          "name": "stdout",
          "output_type": "stream",
          "text": [
            "Number of training examples: 20\n",
            "Number of validation examples: 6\n"
          ]
        }
      ],
      "source": [
        "print(\"Number of training examples:\", len(train_dataset))\n",
        "print(\"Number of validation examples:\", len(eval_dataset))"
      ]
    },
    {
      "cell_type": "code",
      "execution_count": 6,
      "metadata": {
        "id": "xM4CKlaPamFX"
      },
      "outputs": [
        {
          "name": "stdout",
          "output_type": "stream",
          "text": [
            "pixel_values torch.Size([3, 384, 384])\n",
            "labels torch.Size([32])\n"
          ]
        }
      ],
      "source": [
        "encoding = train_dataset[0]\n",
        "for k,v in encoding.items():\n",
        "  print(k, v.shape)"
      ]
    },
    {
      "cell_type": "code",
      "execution_count": 7,
      "metadata": {
        "id": "rtsz8KYNaoV-"
      },
      "outputs": [
        {
          "data": {
            "image/jpeg": "[encoded data removed]",
            "image/png": "[encoded data removed]",
            "text/plain": [
              "<PIL.Image.Image image mode=RGB size=211x58>"
            ]
          },
          "execution_count": 7,
          "metadata": {},
          "output_type": "execute_result"
        }
      ],
      "source": [
        "image = Image.open(train_dataset.root_dir + train_df['file_name'][0]).convert(\"RGB\")\n",
        "image"
      ]
    },
    {
      "cell_type": "code",
      "execution_count": 8,
      "metadata": {
        "id": "aIU5nzVKa8tN"
      },
      "outputs": [
        {
          "name": "stdout",
          "output_type": "stream",
          "text": [
            "라이\n"
          ]
        }
      ],
      "source": [
        "labels = encoding['labels']\n",
        "labels[labels == -100] = processor.tokenizer.pad_token_id\n",
        "label_str = processor.decode(labels, skip_special_tokens=True)\n",
        "print(label_str)"
      ]
    },
    {
      "cell_type": "code",
      "execution_count": 10,
      "metadata": {
        "id": "qaf6EPb_a_Uc"
      },
      "outputs": [],
      "source": [
        "from torch.utils.data import DataLoader\n",
        "\n",
        "train_dataloader = DataLoader(train_dataset, batch_size=4, shuffle=True)\n",
        "eval_dataloader = DataLoader(eval_dataset, batch_size=4)"
      ]
    },
    {
      "cell_type": "markdown",
      "metadata": {
        "id": "xXRcQUmJbFVV"
      },
      "source": [
        "# train model"
      ]
    },
    {
      "cell_type": "code",
      "execution_count": 11,
      "metadata": {
        "id": "b_bQks7XbCvN"
      },
      "outputs": [
        {
          "name": "stderr",
          "output_type": "stream",
          "text": [
            "Some weights of VisionEncoderDecoderModel were not initialized from the model checkpoint at microsoft/trocr-small-printed and are newly initialized: ['encoder.pooler.dense.bias', 'encoder.pooler.dense.weight']\n",
            "You should probably TRAIN this model on a down-stream task to be able to use it for predictions and inference.\n"
          ]
        },
        {
          "data": {
            "text/plain": [
              "VisionEncoderDecoderModel(\n",
              "  (encoder): DeiTModel(\n",
              "    (embeddings): DeiTEmbeddings(\n",
              "      (patch_embeddings): DeiTPatchEmbeddings(\n",
              "        (projection): Conv2d(3, 384, kernel_size=(16, 16), stride=(16, 16))\n",
              "      )\n",
              "      (dropout): Dropout(p=0.0, inplace=False)\n",
              "    )\n",
              "    (encoder): DeiTEncoder(\n",
              "      (layer): ModuleList(\n",
              "        (0-11): 12 x DeiTLayer(\n",
              "          (attention): DeiTAttention(\n",
              "            (attention): DeiTSelfAttention(\n",
              "              (query): Linear(in_features=384, out_features=384, bias=True)\n",
              "              (key): Linear(in_features=384, out_features=384, bias=True)\n",
              "              (value): Linear(in_features=384, out_features=384, bias=True)\n",
              "              (dropout): Dropout(p=0.0, inplace=False)\n",
              "            )\n",
              "            (output): DeiTSelfOutput(\n",
              "              (dense): Linear(in_features=384, out_features=384, bias=True)\n",
              "              (dropout): Dropout(p=0.0, inplace=False)\n",
              "            )\n",
              "          )\n",
              "          (intermediate): DeiTIntermediate(\n",
              "            (dense): Linear(in_features=384, out_features=1536, bias=True)\n",
              "            (intermediate_act_fn): GELUActivation()\n",
              "          )\n",
              "          (output): DeiTOutput(\n",
              "            (dense): Linear(in_features=1536, out_features=384, bias=True)\n",
              "            (dropout): Dropout(p=0.0, inplace=False)\n",
              "          )\n",
              "          (layernorm_before): LayerNorm((384,), eps=1e-12, elementwise_affine=True)\n",
              "          (layernorm_after): LayerNorm((384,), eps=1e-12, elementwise_affine=True)\n",
              "        )\n",
              "      )\n",
              "    )\n",
              "    (layernorm): LayerNorm((384,), eps=1e-12, elementwise_affine=True)\n",
              "    (pooler): DeiTPooler(\n",
              "      (dense): Linear(in_features=384, out_features=384, bias=True)\n",
              "      (activation): Tanh()\n",
              "    )\n",
              "  )\n",
              "  (decoder): TrOCRForCausalLM(\n",
              "    (model): TrOCRDecoderWrapper(\n",
              "      (decoder): TrOCRDecoder(\n",
              "        (embed_tokens): Embedding(64044, 256, padding_idx=1)\n",
              "        (embed_positions): TrOCRLearnedPositionalEmbedding(514, 256)\n",
              "        (layernorm_embedding): LayerNorm((256,), eps=1e-05, elementwise_affine=True)\n",
              "        (layers): ModuleList(\n",
              "          (0-5): 6 x TrOCRDecoderLayer(\n",
              "            (self_attn): TrOCRAttention(\n",
              "              (k_proj): Linear(in_features=256, out_features=256, bias=True)\n",
              "              (v_proj): Linear(in_features=256, out_features=256, bias=True)\n",
              "              (q_proj): Linear(in_features=256, out_features=256, bias=True)\n",
              "              (out_proj): Linear(in_features=256, out_features=256, bias=True)\n",
              "            )\n",
              "            (activation_fn): ReLU()\n",
              "            (self_attn_layer_norm): LayerNorm((256,), eps=1e-05, elementwise_affine=True)\n",
              "            (encoder_attn): TrOCRAttention(\n",
              "              (k_proj): Linear(in_features=384, out_features=256, bias=True)\n",
              "              (v_proj): Linear(in_features=384, out_features=256, bias=True)\n",
              "              (q_proj): Linear(in_features=256, out_features=256, bias=True)\n",
              "              (out_proj): Linear(in_features=256, out_features=256, bias=True)\n",
              "            )\n",
              "            (encoder_attn_layer_norm): LayerNorm((256,), eps=1e-05, elementwise_affine=True)\n",
              "            (fc1): Linear(in_features=256, out_features=1024, bias=True)\n",
              "            (fc2): Linear(in_features=1024, out_features=256, bias=True)\n",
              "            (final_layer_norm): LayerNorm((256,), eps=1e-05, elementwise_affine=True)\n",
              "          )\n",
              "        )\n",
              "      )\n",
              "    )\n",
              "    (output_projection): Linear(in_features=256, out_features=64044, bias=False)\n",
              "  )\n",
              ")"
            ]
          },
          "execution_count": 11,
          "metadata": {},
          "output_type": "execute_result"
        }
      ],
      "source": [
        "from transformers import VisionEncoderDecoderModel\n",
        "import torch\n",
        "\n",
        "device = torch.device(\"cuda\" if torch.cuda.is_available() else \"cpu\")\n",
        "\n",
        "model = VisionEncoderDecoderModel.from_pretrained('microsoft/trocr-small-printed')\n",
        "model.to(device)"
      ]
    },
    {
      "cell_type": "code",
      "execution_count": 12,
      "metadata": {
        "id": "XYkvF3XxbHPj"
      },
      "outputs": [],
      "source": [
        "# set special tokens used for creating the decoder_input_ids from the labels\n",
        "model.config.decoder_start_token_id = processor.tokenizer.cls_token_id\n",
        "model.config.pad_token_id = processor.tokenizer.pad_token_id\n",
        "# make sure vocab size is set correctly\n",
        "model.config.vocab_size = model.config.decoder.vocab_size\n",
        "\n",
        "# set beam search parameters\n",
        "model.config.eos_token_id = processor.tokenizer.sep_token_id\n",
        "model.config.max_length = 64\n",
        "model.config.early_stopping = True\n",
        "model.config.no_repeat_ngram_size = 3\n",
        "model.config.length_penalty = 2.0\n",
        "model.config.num_beams = 4"
      ]
    },
    {
      "cell_type": "code",
      "execution_count": null,
      "metadata": {
        "id": "bdzekHB9be2l"
      },
      "outputs": [],
      "source": [
        "!pip install datasets jiwer"
      ]
    },
    {
      "cell_type": "code",
      "execution_count": 13,
      "metadata": {
        "id": "WzOUi5albaSk"
      },
      "outputs": [
        {
          "name": "stderr",
          "output_type": "stream",
          "text": [
            "/tmp/ipykernel_63639/1679503157.py:2: FutureWarning: load_metric is deprecated and will be removed in the next major version of datasets. Use 'evaluate.load' instead, from the new library 🤗 Evaluate: https://huggingface.co/docs/evaluate\n",
            "  cer_metric = load_metric(\"cer\")\n",
            "/home/wooju/anaconda3/envs/py39_trocr/lib/python3.9/site-packages/datasets/load.py:756: FutureWarning: The repository for cer contains custom code which must be executed to correctly load the metric. You can inspect the repository content at https://raw.githubusercontent.com/huggingface/datasets/2.18.0/metrics/cer/cer.py\n",
            "You can avoid this message in future by passing the argument `trust_remote_code=True`.\n",
            "Passing `trust_remote_code=True` will be mandatory to load this metric from the next major release of `datasets`.\n",
            "  warnings.warn(\n"
          ]
        }
      ],
      "source": [
        "from datasets import load_metric\n",
        "cer_metric = load_metric(\"cer\")"
      ]
    },
    {
      "cell_type": "code",
      "execution_count": null,
      "metadata": {},
      "outputs": [],
      "source": [
        "# def compute_metrics(pred):\n",
        "#     labels_ids = pred.label_ids\n",
        "#     pred_ids = pred.predictions\n",
        "\n",
        "#     pred_str = tokenizer.batch_decode(pred_ids, skip_special_tokens=True)\n",
        "#     labels_ids[labels_ids == -100] = processor.tokenizer.pad_token_id\n",
        "#     label_str = tokenizer.batch_decode(labels_ids, skip_special_tokens=True)\n",
        "    \n",
        "#     pred_str = [pred_str[i] for i in range(len(pred_str)) if len(label_str[i]) > 0]\n",
        "#     label_str = [label_str[i] for i in range(len(label_str)) if len(label_str[i]) > 0]\n",
        "\n",
        "#     cer = cer_metric.compute(predictions=pred_str, references=label_str)\n",
        "#     wer = wer_metric.compute(predictions=pred_str, references=label_str)\n",
        "\n",
        "#     return {\"cer\": cer, \"wer\": wer}"
      ]
    },
    {
      "cell_type": "code",
      "execution_count": 14,
      "metadata": {
        "id": "B4HfDZSBbbpm"
      },
      "outputs": [],
      "source": [
        "def compute_cer(pred_ids, label_ids):\n",
        "    pred_str = processor.batch_decode(pred_ids, skip_special_tokens=True)\n",
        "    label_ids[label_ids == -100] = processor.tokenizer.pad_token_id\n",
        "    label_str = processor.batch_decode(label_ids, skip_special_tokens=True)\n",
        "\n",
        "    cer = cer_metric.compute(predictions=pred_str, references=label_str)\n",
        "\n",
        "    return cer"
      ]
    },
    {
      "cell_type": "code",
      "execution_count": 15,
      "metadata": {
        "id": "1n9zXxFzcEiR"
      },
      "outputs": [
        {
          "name": "stderr",
          "output_type": "stream",
          "text": [
            "/home/wooju/anaconda3/envs/py39_trocr/lib/python3.9/site-packages/transformers/optimization.py:457: FutureWarning: This implementation of AdamW is deprecated and will be removed in a future version. Use the PyTorch implementation torch.optim.AdamW instead, or set `no_deprecation_warning=True` to disable this warning\n",
            "  warnings.warn(\n"
          ]
        },
        {
          "data": {
            "application/vnd.jupyter.widget-view+json": {
              "model_id": "3ce40326bb284574b97b541ed2b2824a",
              "version_major": 2,
              "version_minor": 0
            },
            "text/plain": [
              "  0%|          | 0/5 [00:00<?, ?it/s]"
            ]
          },
          "metadata": {},
          "output_type": "display_data"
        },
        {
          "name": "stdout",
          "output_type": "stream",
          "text": [
            "Loss after epoch 0: 10.322248458862305\n"
          ]
        },
        {
          "data": {
            "application/vnd.jupyter.widget-view+json": {
              "model_id": "e4f32fee27614a27bdee0f0790a7464d",
              "version_major": 2,
              "version_minor": 0
            },
            "text/plain": [
              "  0%|          | 0/2 [00:00<?, ?it/s]"
            ]
          },
          "metadata": {},
          "output_type": "display_data"
        },
        {
          "name": "stderr",
          "output_type": "stream",
          "text": [
            "/home/wooju/anaconda3/envs/py39_trocr/lib/python3.9/site-packages/transformers/generation/utils.py:1197: UserWarning: You have modified the pretrained model configuration to control generation. This is a deprecated strategy to control generation and will be removed soon, in a future version. Please use and modify the model generation configuration (see https://huggingface.co/docs/transformers/generation_strategies#default-text-generation-configuration )\n",
            "  warnings.warn(\n",
            "Some non-default generation parameters are set in the model config. These should go into a GenerationConfig file (https://huggingface.co/docs/transformers/generation_strategies#save-a-custom-decoding-strategy-with-your-model) instead. This warning will be raised to an exception in v4.41.\n",
            "Non-default generation parameters: {'max_length': 64, 'early_stopping': True, 'num_beams': 4, 'length_penalty': 2.0, 'no_repeat_ngram_size': 3}\n"
          ]
        },
        {
          "name": "stdout",
          "output_type": "stream",
          "text": [
            "Validation CER: 1.05\n"
          ]
        }
      ],
      "source": [
        "from transformers import AdamW\n",
        "from tqdm.notebook import tqdm\n",
        "import csv\n",
        "\n",
        "optimizer = AdamW(model.parameters(), lr=5e-5)\n",
        "\n",
        "for epoch in range(1):  # loop over the dataset multiple times\n",
        "   # train\n",
        "  model.train()\n",
        "  train_loss = 0.0\n",
        "  for batch in tqdm(train_dataloader):\n",
        "    # get the inputs\n",
        "    for k,v in batch.items():\n",
        "      batch[k] = v.to(device)\n",
        "\n",
        "    # forward + backward + optimize\n",
        "    outputs = model(**batch)\n",
        "    loss = outputs.loss\n",
        "    loss.backward()\n",
        "    optimizer.step()\n",
        "    optimizer.zero_grad()\n",
        "\n",
        "    train_loss += loss.item()\n",
        "\n",
        "  print(f\"Loss after epoch {epoch}:\", train_loss/len(train_dataloader))\n",
        "\n",
        "   # evaluate\n",
        "  model.eval()\n",
        "  valid_cer = 0.0\n",
        "  with torch.no_grad():\n",
        "    for batch in tqdm(eval_dataloader):\n",
        "      # run batch generation\n",
        "      outputs = model.generate(batch[\"pixel_values\"].to(device))\n",
        "      # compute metrics\n",
        "      cer = compute_cer(pred_ids=outputs, label_ids=batch[\"labels\"])\n",
        "      valid_cer += cer\n",
        "\n",
        "  print(\"Validation CER:\", valid_cer / len(eval_dataloader))\n",
        "\n",
        "\n",
        "  with open('result.csv', 'a') as f:\n",
        "    data = [{'epoch': epoch, 'loss': train_loss/len(train_dataloader), 'Validation CER':  valid_cer / len(eval_dataloader) }]\n",
        "    writer = csv.DictWriter(f, fieldnames=data[0].keys()) # fieldnames=['Name', 'Height']\n",
        "    if epoch == 0:\n",
        "        writer.writeheader()  # 첫 번째 루프에서만 헤더 쓰기\n",
        "    writer.writerows(data)\n",
        "\n",
        "  model.save_pretrained(\"./model/\")"
      ]
    },
    {
      "cell_type": "markdown",
      "metadata": {
        "id": "jOgt-3G4kzhe"
      },
      "source": [
        "# Inference"
      ]
    },
    {
      "cell_type": "code",
      "execution_count": null,
      "metadata": {
        "id": "wfg-hmv7xZOt"
      },
      "outputs": [],
      "source": [
        "df2 = pd.read_json(r'/content/drive/MyDrive/trocr/data/label/TL1/result/medicine/annotations/medicine_00002.json')\n",
        "df_2row = df2.iloc[0]\n",
        "df_2row\n"
      ]
    },
    {
      "cell_type": "code",
      "execution_count": null,
      "metadata": {
        "id": "tnumMVrUuTAV"
      },
      "outputs": [],
      "source": [
        "\n",
        "for i, j in zip(df_2row['annotations']['polygons'], df_2row['annotations'][\"bbox\"]):\n",
        "    print(i['text'], j)\n",
        "\n",
        "for i in  df_2row['annotations'][\"bbox\"]:\n",
        "    print(i['x'],i['x']+i['width'], i['y'],i['y']+i['height'])\n",
        "\n",
        "from PIL import Image\n",
        "\n",
        "image1 = Image.open(r'/content/drive/MyDrive/trocr/data/image/TS1/result/medicine/image/medicine_00002.jpg')\n",
        "image1.show()\n",
        "\n",
        "cnt=0\n",
        "\n",
        "import os\n",
        "data = {'file_name' : [], 'text' : []}\n",
        "\n",
        "# 이미지 자르기 crop함수 이용 ex. crop(left,up, rigth, down)\n",
        "for i,j in  zip(df_2row['annotations'][\"bbox\"],df_2row['annotations']['polygons']):\n",
        "    croppedImage=image1.crop((i['x'],i['y'], i['x']+i['width'],i['y']+i['height']))\n",
        "    croppedImage.show()\n",
        "\n",
        "    print(\"잘려진 사진 크기 :\",croppedImage.size)\n",
        "    croppedImage.save('./inferenceresult/croppedImage{}.jpg'.format(cnt))\n",
        "    data['file_name'].append('croppedImage{}.jpg'.format(cnt))\n",
        "    data['text'].append(j['text'])\n",
        "    cnt += 1\n",
        "\n",
        "df = pd.DataFrame(data)\n",
        "df"
      ]
    },
    {
      "cell_type": "code",
      "execution_count": null,
      "metadata": {
        "id": "RsJ64w8acHW_"
      },
      "outputs": [],
      "source": [
        "# sample_test_df = pd.read_csv('/content/data/test.csv')\n",
        "# sample_test_df.drop(['id'],axis=1,inplace=True)\n",
        "df.file_name=df.file_name.apply(lambda x: './inferenceresult/'+ x )\n"
      ]
    },
    {
      "cell_type": "code",
      "execution_count": null,
      "metadata": {
        "id": "UR86VB3SiS9u"
      },
      "outputs": [],
      "source": [
        "# 저장된 모델 불러오기\n",
        "# from transformers import VisionEncoderDecoderModel, AutoTokenizer\n",
        "# model=VisionEncoderDecoderModel.from_pretrained('./model')\n",
        "# tokenizer=AutoTokenizer.from_pretrained('./model')"
      ]
    },
    {
      "cell_type": "code",
      "execution_count": null,
      "metadata": {
        "id": "Q9mTjCbYiWUI"
      },
      "outputs": [],
      "source": [
        "from tqdm.auto import tqdm\n",
        "img_names, outputs= [], []\n",
        "# device=torch.device('cuda')\n",
        "# model.to(device)\n",
        "\n",
        "for i in tqdm(range(1)):\n",
        "    image = Image.open(df['file_name'][i]).convert('RGB')\n",
        "    # pixel_values =(processor(image,return_tensors='pt').pixel_values).to(device)\n",
        "    pixel_values =processor(image,return_tensors='pt').pixel_values\n",
        "    \n",
        "    generated_ids = model.generate(pixel_values)\n",
        "    generated_text = tokenizer.batch_decode(generated_ids, skip_special_tokens=True)[0]\n",
        "    img_names.append(df.file_name[i])\n",
        "    outputs.append(generated_text)\n",
        "    print('Decoded label = {},{}'.format(img_names[i],generated_text))\n",
        "\n",
        "#img_idx = np.random.randint(len(eval_dataaset))\n",
        "#image = Image.open(eval_dataset.dataset_dir + train_df['file_name'][img_idx])"
      ]
    },
    {
      "cell_type": "code",
      "execution_count": null,
      "metadata": {
        "id": "Lk8G4Bc6iXg_"
      },
      "outputs": [],
      "source": [
        "df = pd.DataFrame({'image_names':img_names, 'outputs':outputs})\n",
        "sub=pd.read_csv('/content/data/sample_submission.csv')\n",
        "sub['label']=df.outputs\n",
        "# sub.to_csv('trocr_submit.csv',index=False)"
      ]
    }
  ],
  "metadata": {
    "colab": {
      "provenance": []
    },
    "kernelspec": {
      "display_name": "py39_trocr",
      "language": "python",
      "name": "python3"
    },
    "language_info": {
      "codemirror_mode": {
        "name": "ipython",
        "version": 3
      },
      "file_extension": ".py",
      "mimetype": "text/x-python",
      "name": "python",
      "nbconvert_exporter": "python",
      "pygments_lexer": "ipython3",
      "version": "3.9.19"
    }
  },
  "nbformat": 4,
  "nbformat_minor": 0
}
